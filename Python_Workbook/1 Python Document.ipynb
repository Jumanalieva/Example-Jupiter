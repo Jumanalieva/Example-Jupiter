{
 "cells": [
  {
   "cell_type": "markdown",
   "metadata": {
    "id": "_lYdFHgunI4C"
   },
   "source": [
    "# Week 2 - Monday Lesson (variable assignment, loops, lists)"
   ]
  },
  {
   "cell_type": "markdown",
   "metadata": {
    "id": "TlykrWUwnI4F"
   },
   "source": [
    "## Tasks Today:\n",
    "\n",
    "1) Int & Float assignments <br>\n",
    " &nbsp;&nbsp;&nbsp;&nbsp; a) Assigning int <br>\n",
    " &nbsp;&nbsp;&nbsp;&nbsp; b) Assigning float <br>\n",
    " &nbsp;&nbsp;&nbsp;&nbsp; c) Performing Calculations on ints and floats <br>\n",
    " &nbsp;&nbsp;&nbsp;&nbsp;&nbsp;&nbsp;&nbsp;&nbsp; - Addition <br>\n",
    " &nbsp;&nbsp;&nbsp;&nbsp;&nbsp;&nbsp;&nbsp;&nbsp; - Subtraction <br>\n",
    " &nbsp;&nbsp;&nbsp;&nbsp;&nbsp;&nbsp;&nbsp;&nbsp; - Multiplication <br>\n",
    " &nbsp;&nbsp;&nbsp;&nbsp;&nbsp;&nbsp;&nbsp;&nbsp; - Division <br>\n",
    " &nbsp;&nbsp;&nbsp;&nbsp;&nbsp;&nbsp;&nbsp;&nbsp; - Floor Division <br>\n",
    " &nbsp;&nbsp;&nbsp;&nbsp;&nbsp;&nbsp;&nbsp;&nbsp; - Modulo <br>\n",
    " &nbsp;&nbsp;&nbsp;&nbsp;&nbsp;&nbsp;&nbsp;&nbsp; - Exponential <br>\n",
    "2) String Input-Output <br>\n",
    " &nbsp;&nbsp;&nbsp;&nbsp; a) String Assignment <br>\n",
    " &nbsp;&nbsp;&nbsp;&nbsp; b) print() <br>\n",
    " &nbsp;&nbsp;&nbsp;&nbsp; c) String Concatenation <br>\n",
    " &nbsp;&nbsp;&nbsp;&nbsp; d) Type Conversion <br>\n",
    " &nbsp;&nbsp;&nbsp;&nbsp; e) input() <br>\n",
    " &nbsp;&nbsp;&nbsp;&nbsp; f) format() <br>\n",
    " &nbsp;&nbsp;&nbsp;&nbsp; g) Old Way (python 2) <br>\n",
    "3) <b>In-Class Exercise #1</b> <br>\n",
    "4) If Statements <br>\n",
    " &nbsp;&nbsp;&nbsp;&nbsp; a) 'is' keyword <br>\n",
    " &nbsp;&nbsp;&nbsp;&nbsp; b) 'in' keyword <br>\n",
    " &nbsp;&nbsp;&nbsp;&nbsp; c) 'not in' keyword <br>\n",
    "5) <b>In-Class Exercise #2</b> <br>\n",
    "6) Elif Statements <br>\n",
    "7) Else Statements <br>\n",
    "8) <b>In-Class Exercise #3</b> <br>\n",
    "9) For Loops <br>\n",
    " &nbsp;&nbsp;&nbsp;&nbsp; a) Using 'in' keyword <br>\n",
    " &nbsp;&nbsp;&nbsp;&nbsp; b) Continue Statement <br>\n",
    " &nbsp;&nbsp;&nbsp;&nbsp; c) Break Statement <br>\n",
    " &nbsp;&nbsp;&nbsp;&nbsp; d) Pass Statement <br>\n",
    " &nbsp;&nbsp;&nbsp;&nbsp; e) Double For Loops <br>\n",
    "10) While Loops <br>\n",
    " &nbsp;&nbsp;&nbsp;&nbsp; a) Looping 'While True' <br>\n",
    " &nbsp;&nbsp;&nbsp;&nbsp; b) While and For Loops Used Together <br>\n",
    "11) Built-In Functions <br>\n",
    " &nbsp;&nbsp;&nbsp;&nbsp; a) range() <br>\n",
    " &nbsp;&nbsp;&nbsp;&nbsp; b) len() <br>\n",
    " &nbsp;&nbsp;&nbsp;&nbsp; c) help() <br>\n",
    " &nbsp;&nbsp;&nbsp;&nbsp; d) isinstance() <br>\n",
    " &nbsp;&nbsp;&nbsp;&nbsp; e) abs() <br>\n",
    "12) Try and Except <br>\n",
    "13) Lists <br>\n",
    " &nbsp;&nbsp;&nbsp;&nbsp; a) Declaring Lists <br>\n",
    " &nbsp;&nbsp;&nbsp;&nbsp; b) Indexing a List <br>\n",
    " &nbsp;&nbsp;&nbsp;&nbsp; c) .append() <br>\n",
    " &nbsp;&nbsp;&nbsp;&nbsp; d) .insert() <br>\n",
    " &nbsp;&nbsp;&nbsp;&nbsp; e) .pop() <br>\n",
    " &nbsp;&nbsp;&nbsp;&nbsp; f) .remove() <br>\n",
    " &nbsp;&nbsp;&nbsp;&nbsp; g) del() <br>\n",
    " &nbsp;&nbsp;&nbsp;&nbsp; h) Concatenating Two Lists <br>\n",
    " &nbsp;&nbsp;&nbsp;&nbsp; i) Lists Within Lists <br>\n",
    " &nbsp;&nbsp;&nbsp;&nbsp; j) Looping Through Lists <br>"
   ]
  },
  {
   "cell_type": "markdown",
   "metadata": {
    "id": "GA5PihKinI4G"
   },
   "source": [
    "### Int & Float Assignments"
   ]
  },
  {
   "cell_type": "markdown",
   "metadata": {
    "id": "MBzSQCTtnI4H"
   },
   "source": [
    "##### Assigning int"
   ]
  },
  {
   "cell_type": "code",
   "execution_count": 2,
   "metadata": {
    "id": "FyCfMo3InI4H"
   },
   "outputs": [
    {
     "name": "stdout",
     "output_type": "stream",
     "text": [
      "125\n"
     ]
    }
   ],
   "source": [
    "number_i = 125\n",
    "print(number_i)"
   ]
  },
  {
   "cell_type": "markdown",
   "metadata": {
    "id": "Dgtlwu50nI4H"
   },
   "source": [
    "##### Assinging float"
   ]
  },
  {
   "cell_type": "code",
   "execution_count": 5,
   "metadata": {
    "id": "vYTVDEiLnI4I"
   },
   "outputs": [
    {
     "name": "stdout",
     "output_type": "stream",
     "text": [
      "99.9\n"
     ]
    }
   ],
   "source": [
    "number_f = 99.9\n",
    "print(number_f)"
   ]
  },
  {
   "cell_type": "markdown",
   "metadata": {
    "id": "sxotyKienI4I"
   },
   "source": [
    "#### Performing Calculations on ints and floats"
   ]
  },
  {
   "cell_type": "markdown",
   "metadata": {
    "id": "1c23vPBBnI4I"
   },
   "source": [
    "##### Addition"
   ]
  },
  {
   "cell_type": "code",
   "execution_count": 13,
   "metadata": {
    "id": "YVC-9L-WnI4J"
   },
   "outputs": [
    {
     "name": "stdout",
     "output_type": "stream",
     "text": [
      "76\n",
      "81\n"
     ]
    }
   ],
   "source": [
    "a = 54\n",
    "b = 22\n",
    "\n",
    "sum_1 = a + b\n",
    "print(sum_1)\n",
    "\n",
    "sum_1+=5\n",
    "print(sum_1)\n"
   ]
  },
  {
   "cell_type": "markdown",
   "metadata": {
    "id": "SCIuJb8PnI4J"
   },
   "source": [
    "##### Subtraction"
   ]
  },
  {
   "cell_type": "code",
   "execution_count": 15,
   "metadata": {
    "id": "ECSRAlR_nI4J"
   },
   "outputs": [
    {
     "name": "stdout",
     "output_type": "stream",
     "text": [
      "32\n",
      "29\n"
     ]
    }
   ],
   "source": [
    "diff_result = a - b\n",
    "print(diff_result)\n",
    "\n",
    "diff_result-=3\n",
    "print(diff_result)"
   ]
  },
  {
   "cell_type": "markdown",
   "metadata": {
    "id": "c1yyzTdhnI4J"
   },
   "source": [
    "##### Multiplication"
   ]
  },
  {
   "cell_type": "code",
   "execution_count": 17,
   "metadata": {
    "id": "ijJnczz_nI4J"
   },
   "outputs": [
    {
     "name": "stdout",
     "output_type": "stream",
     "text": [
      "1188\n",
      "2376\n"
     ]
    }
   ],
   "source": [
    "mul_result = a*b\n",
    "print(mul_result)\n",
    "\n",
    "mul_result*=2\n",
    "print(mul_result)"
   ]
  },
  {
   "cell_type": "markdown",
   "metadata": {
    "id": "THJ8NwqDnI4J"
   },
   "source": [
    "##### Division"
   ]
  },
  {
   "cell_type": "code",
   "execution_count": 18,
   "metadata": {
    "id": "XKEL8XWknI4J"
   },
   "outputs": [
    {
     "name": "stdout",
     "output_type": "stream",
     "text": [
      "2.4545454545454546\n",
      "1.2272727272727273\n"
     ]
    }
   ],
   "source": [
    "div_result = a/b\n",
    "print(div_result)\n",
    "\n",
    "div_result/=2\n",
    "print(div_result)"
   ]
  },
  {
   "cell_type": "markdown",
   "metadata": {
    "id": "Tz75gZabnI4J"
   },
   "source": [
    "##### Floor Division"
   ]
  },
  {
   "cell_type": "code",
   "execution_count": 20,
   "metadata": {
    "id": "OpemhUHcnI4J"
   },
   "outputs": [
    {
     "name": "stdout",
     "output_type": "stream",
     "text": [
      "2\n",
      "1.0\n"
     ]
    }
   ],
   "source": [
    "fdiv_result = a//b\n",
    "print(fdiv_result)\n",
    "\n",
    "fdiv_result//=1.2\n",
    "print(fdiv_result)"
   ]
  },
  {
   "cell_type": "markdown",
   "metadata": {
    "id": "yEY_cTvunI4K"
   },
   "source": [
    "##### Modulo"
   ]
  },
  {
   "cell_type": "code",
   "execution_count": 21,
   "metadata": {
    "id": "mAaZNsvOnI4K"
   },
   "outputs": [
    {
     "name": "stdout",
     "output_type": "stream",
     "text": [
      "10\n",
      "1\n"
     ]
    }
   ],
   "source": [
    "mod_result = a%b\n",
    "print(mod_result)\n",
    "\n",
    "mod_result%=3\n",
    "print(mod_result)"
   ]
  },
  {
   "cell_type": "markdown",
   "metadata": {
    "id": "6Y0p5PXtnI4K"
   },
   "source": [
    "##### Exponential"
   ]
  },
  {
   "cell_type": "code",
   "execution_count": 23,
   "metadata": {
    "id": "ivxWicu2nI4K"
   },
   "outputs": [
    {
     "name": "stdout",
     "output_type": "stream",
     "text": [
      "225\n",
      "11390625\n"
     ]
    }
   ],
   "source": [
    "c = 15\n",
    "expo_result = c**2\n",
    "print(expo_result)\n",
    "\n",
    "expo_result**=3\n",
    "print(expo_result)"
   ]
  },
  {
   "cell_type": "markdown",
   "metadata": {
    "id": "aUMz5XQknI4K"
   },
   "source": [
    "### String Input-Output"
   ]
  },
  {
   "cell_type": "markdown",
   "metadata": {
    "id": "2BJ5uk0MnI4K"
   },
   "source": [
    "##### String Assignment"
   ]
  },
  {
   "cell_type": "code",
   "execution_count": 38,
   "metadata": {
    "id": "tqQHSjrMnI4K"
   },
   "outputs": [
    {
     "name": "stdout",
     "output_type": "stream",
     "text": [
      "Apple\n"
     ]
    }
   ],
   "source": [
    "company_name = \"apple\"\n",
    "print(a.title())"
   ]
  },
  {
   "cell_type": "markdown",
   "metadata": {
    "id": "CTG5ebeDnI4K"
   },
   "source": [
    "##### print() <br>\n",
    "<p>Don't forget about end=' '</p>"
   ]
  },
  {
   "cell_type": "code",
   "execution_count": 31,
   "metadata": {
    "id": "j9LsUwpWnI4K"
   },
   "outputs": [
    {
     "name": "stdout",
     "output_type": "stream",
     "text": [
      "World's largest company by market capitlization is  Apple!"
     ]
    }
   ],
   "source": [
    "print(\"World's largest company by market capitlization is \", company_name.title(), end= '!')\n"
   ]
  },
  {
   "cell_type": "markdown",
   "metadata": {
    "id": "8ZBbO2bdnI4K"
   },
   "source": [
    "##### String Concatenation"
   ]
  },
  {
   "cell_type": "code",
   "execution_count": 59,
   "metadata": {
    "id": "lEJTg5ZAnI4K"
   },
   "outputs": [
    {
     "name": "stdout",
     "output_type": "stream",
     "text": [
      "Meta Amazon\n"
     ]
    }
   ],
   "source": [
    "us_tech_company1 = 'Meta'\n",
    "us_tech_company2 = 'Amazon'\n",
    "\n",
    "biggest_tech_companies = us_tech_company1 +' '+us_tech_company2 \n",
    "print(biggest_tech_companies)\n"
   ]
  },
  {
   "cell_type": "markdown",
   "metadata": {
    "id": "Cgp68WgfnI4K"
   },
   "source": [
    "##### Type Conversion"
   ]
  },
  {
   "cell_type": "code",
   "execution_count": 60,
   "metadata": {
    "id": "K3n6iLMInI4K"
   },
   "outputs": [
    {
     "name": "stdout",
     "output_type": "stream",
     "text": [
      "<class 'int'>\n",
      "18\n"
     ]
    }
   ],
   "source": [
    "player_id = '18'\n",
    "player_id = int(player_id)\n",
    "print(type(player_id))\n",
    "print(player_id)"
   ]
  },
  {
   "cell_type": "markdown",
   "metadata": {
    "id": "crZkhLp-nI4K"
   },
   "source": [
    "##### input()"
   ]
  },
  {
   "cell_type": "code",
   "execution_count": 61,
   "metadata": {
    "id": "ZxqHUvzinI4K"
   },
   "outputs": [
    {
     "name": "stdout",
     "output_type": "stream",
     "text": [
      "Enter the model of your device: HP laptop computer\n",
      "The user owns HP laptop computer\n"
     ]
    }
   ],
   "source": [
    "device_model = input(\"Enter the model of your device: \")\n",
    "print(\"The user owns \" + device_model)\n"
   ]
  },
  {
   "cell_type": "raw",
   "metadata": {
    "id": "SVFWpJl2nI4K"
   },
   "source": [
    "##### format()"
   ]
  },
  {
   "cell_type": "code",
   "execution_count": 62,
   "metadata": {
    "id": "RhTZefUbnI4L"
   },
   "outputs": [
    {
     "name": "stdout",
     "output_type": "stream",
     "text": [
      "What's the model of the car? Bentley\n",
      "Bentley is available in our store!\n"
     ]
    }
   ],
   "source": [
    "car_model = input(\"What's the model of the car? \")\n",
    "print(f\"{car_model.title()} is available in our store!\")"
   ]
  },
  {
   "cell_type": "markdown",
   "metadata": {
    "id": "APNurDvGnI4L"
   },
   "source": [
    "##### Old Way (python 2)"
   ]
  },
  {
   "cell_type": "code",
   "execution_count": 63,
   "metadata": {
    "id": "UvNHYF_nnI4L"
   },
   "outputs": [
    {
     "name": "stdout",
     "output_type": "stream",
     "text": [
      "The customer is looking for Bentley since last week.\n"
     ]
    }
   ],
   "source": [
    "text_2 = \"The customer is looking for %s since last week.\" %car_model\n",
    "print(text_2)\n"
   ]
  },
  {
   "cell_type": "markdown",
   "metadata": {
    "id": "xWvUVMPXnI4L"
   },
   "source": [
    "# In-Class Exercise 1 <br>\n",
    "<p>Create a format statement that asks for color, year, make, model and prints out the results</p>"
   ]
  },
  {
   "cell_type": "code",
   "execution_count": 65,
   "metadata": {
    "id": "nqOur1kunI4L"
   },
   "outputs": [
    {
     "name": "stdout",
     "output_type": "stream",
     "text": [
      "Excellent! You've scored 20 points.\n"
     ]
    }
   ],
   "source": [
    "# Available operators: Greater(>), Less(<),Equal(==)\n",
    "# Greater or Equal(>=), Less or Equal (<=)\n",
    "\n",
    "# Truth Tree:\n",
    "# T && F = F\n",
    "# T && T = T\n",
    "# T || F = T\n",
    "# F || T = T\n",
    "# F || F = F\n",
    "true_answers = 40\n",
    "\n",
    "if true_answers == 20:\n",
    "    print(\"Good job! You've scored 10 points.\")\n",
    "elif true_answers == 40:\n",
    "    print(\"Excellent! You've scored 20 points.\")\n",
    "elif true_answers == 60:\n",
    "    print(\"Exceptional! You'll get the prize! \")\n",
    "else:\n",
    "    print(\"Error occured. Please, try again.\")\n",
    "\n"
   ]
  },
  {
   "cell_type": "code",
   "execution_count": 54,
   "metadata": {
    "id": "Xk_1Hqs5nI4L"
   },
   "outputs": [
    {
     "name": "stdout",
     "output_type": "stream",
     "text": [
      "What's your name? Nurzaada\n",
      "Enter the model of your device: Mackbook\n",
      "What year was it produced? 2023\n",
      "What color is it? silver\n",
      "Nurzaada, you own silver colored, 2023 Mackbook.\n"
     ]
    }
   ],
   "source": [
    "customer_name = input(\"What's your name? \")\n",
    "device_model = input(\"Enter the model of your device: \")\n",
    "year = input(\"What year was it produced? \")\n",
    "color = input(\"What color is it? \")\n",
    "summary = f\"{customer_name}, you own {color} colored, {year} {device_model}.\"\n",
    "print(summary)\n"
   ]
  },
  {
   "cell_type": "markdown",
   "metadata": {
    "id": "u8Me0d0OnI4L"
   },
   "source": [
    "### If Statements"
   ]
  },
  {
   "cell_type": "markdown",
   "metadata": {
    "id": "-ER9CRB-nI4M"
   },
   "source": [
    "##### 'is' keyword"
   ]
  },
  {
   "cell_type": "code",
   "execution_count": 5,
   "metadata": {
    "id": "kFI0d_pJnI4M",
    "scrolled": true
   },
   "outputs": [
    {
     "name": "stdout",
     "output_type": "stream",
     "text": [
      "True\n",
      "False\n",
      "True\n"
     ]
    }
   ],
   "source": [
    "a = [1, 2, 3]\n",
    "b = a   \n",
    "c = [1, 2, 3] \n",
    "\n",
    "print(a is b)  \n",
    "print(a is c)  \n",
    "print(a == c)  \n"
   ]
  },
  {
   "cell_type": "markdown",
   "metadata": {
    "id": "FmQfAuWknI4M"
   },
   "source": [
    "#'in' keyword\n",
    "person = {'name': 'John', 'age': 30}\n",
    "\n",
    "if 'name' in person:\n",
    "    print('Name is a key in the dictionary.')\n",
    "else:\n",
    "    print('Name is not a key in the dictionary.')\n",
    "\n",
    "if 'John' in person:\n",
    "    print('\"John\" is a key in the dictionary.')\n",
    "else:\n",
    "    print('\"John\" is not a key in the dictionary. This is because \"John\" is a value, not a key.')\n",
    "\n",
    "\n"
   ]
  },
  {
   "cell_type": "markdown",
   "metadata": {
    "id": "SVFWpJl2nI4K"
   },
   "source": [
    "##### format()"
   ]
  },
  {
   "cell_type": "code",
   "execution_count": 2,
   "metadata": {
    "id": "XrNP5sgcnI4M"
   },
   "outputs": [
    {
     "name": "stdout",
     "output_type": "stream",
     "text": [
      "We are so excited to have you in our team, Alina!\n"
     ]
    }
   ],
   "source": [
    "mes = f\"We are so excited to have you in our team, {name}!\"\n",
    "print(mes)"
   ]
  },
  {
   "cell_type": "markdown",
   "metadata": {
    "id": "so1coFTcnI4M"
   },
   "source": [
    "##### 'not in' keyword'"
   ]
  },
  {
   "cell_type": "code",
   "execution_count": 70,
   "metadata": {
    "id": "zYUmmngqnI4M"
   },
   "outputs": [
    {
     "name": "stdout",
     "output_type": "stream",
     "text": [
      "'E' doesn't exist in the list.\n"
     ]
    }
   ],
   "source": [
    "labels = ['A', 'B', 'C', 'D']\n",
    "if 'E' not in labels:\n",
    "    print(\"'E' doesn't exist in the list.\")"
   ]
  },
  {
   "cell_type": "markdown",
   "metadata": {
    "id": "p7XXr4jynI4M"
   },
   "source": [
    "# In-Class Exercise 2 <br>\n",
    "<p>Ask user for input, check to see if the letter 'p' is in the input</p>"
   ]
  },
  {
   "cell_type": "code",
   "execution_count": 74,
   "metadata": {
    "id": "pXBVLTaVnI4N"
   },
   "outputs": [
    {
     "name": "stdout",
     "output_type": "stream",
     "text": [
      "Please , enter your message: The founders of the educational planforms were invited to a meeting with students.\n",
      "The letter 'p' is here\n"
     ]
    }
   ],
   "source": [
    "variable_p = input(\"Please , enter your message: \")\n",
    "if 'p' in variable_p:\n",
    "    print(\"The letter 'p' is here\")\n",
    "else: \n",
    "    print(\"The sentence does not contain the letter 'p'.\")"
   ]
  },
  {
   "cell_type": "markdown",
   "metadata": {
    "id": "9ft-wiAdnI4N"
   },
   "source": [
    "## Using 'and'/'or' with If Statements"
   ]
  },
  {
   "cell_type": "code",
   "execution_count": 79,
   "metadata": {
    "id": "Ptv4u09_nI4N"
   },
   "outputs": [
    {
     "name": "stdout",
     "output_type": "stream",
     "text": [
      "True and True\n"
     ]
    }
   ],
   "source": [
    "annual_salary = 100000\n",
    "credit_score = 800\n",
    "\n",
    "if annual_salary >= 100000 and credit_score >= 700:\n",
    "    print(\"True and True\")\n",
    "if annual_salary >120000 or credit_score > 800:\n",
    "    print(\"False or True\")"
   ]
  },
  {
   "cell_type": "markdown",
   "metadata": {
    "id": "IOjOdD9PnI4N"
   },
   "source": [
    "### Elif Statements"
   ]
  },
  {
   "cell_type": "code",
   "execution_count": 81,
   "metadata": {
    "id": "uX3PPFsAnI4N"
   },
   "outputs": [
    {
     "name": "stdout",
     "output_type": "stream",
     "text": [
      "Enter your test results: 92\n",
      "Excelent!\n"
     ]
    }
   ],
   "source": [
    "test_result = int(input(\"Enter your test results: \"))\n",
    "if test_result >=90:\n",
    "    print(\"Excelent!\")\n",
    "elif test_result == 75:\n",
    "    print(\"Good job!\")\n",
    "elif test_result <= 50:\n",
    "    print(\"Repeat the material and try again.\")"
   ]
  },
  {
   "cell_type": "markdown",
   "metadata": {
    "id": "duJ_ca_3nI4N"
   },
   "source": [
    "### Else Statements"
   ]
  },
  {
   "cell_type": "code",
   "execution_count": 83,
   "metadata": {
    "id": "v2HXDSJtnI4N"
   },
   "outputs": [
    {
     "name": "stdout",
     "output_type": "stream",
     "text": [
      "You can enter the building.\n"
     ]
    }
   ],
   "source": [
    "\n",
    "id_card = True\n",
    "invitation = True\n",
    "if id_card  and invitation:\n",
    "    print(\"You can enter the building.\")\n",
    "else:\n",
    "    print(\"Bring the required documents and reach us.\")"
   ]
  },
  {
   "cell_type": "markdown",
   "metadata": {
    "id": "WBt1CKC1nI4N"
   },
   "source": [
    "### For Loops"
   ]
  },
  {
   "cell_type": "code",
   "execution_count": 89,
   "metadata": {
    "id": "UyWaTmZanI4N"
   },
   "outputs": [
    {
     "name": "stdout",
     "output_type": "stream",
     "text": [
      "024681012141618"
     ]
    }
   ],
   "source": [
    "for i in range(0,20,2):\n",
    "    print(i, end = '')"
   ]
  },
  {
   "cell_type": "markdown",
   "metadata": {
    "id": "BCG8kVf_nI4N"
   },
   "source": [
    "##### Using 'in' keyword"
   ]
  },
  {
   "cell_type": "code",
   "execution_count": 90,
   "metadata": {
    "id": "UIciaVhAnI4N"
   },
   "outputs": [
    {
     "name": "stdout",
     "output_type": "stream",
     "text": [
      "Your dormitory is in Gryffindor tower.\n"
     ]
    }
   ],
   "source": [
    "Gryffindor = ['Hermione', 'Ron', 'Harry', 'Sirius']\n",
    "if 'Hermione' in Gryffindor:\n",
    "    print(\"Your dormitory is in Gryffindor tower.\")"
   ]
  },
  {
   "cell_type": "markdown",
   "metadata": {
    "id": "RsIgnevQnI4N"
   },
   "source": [
    "##### Continue Statement"
   ]
  },
  {
   "cell_type": "code",
   "execution_count": 92,
   "metadata": {
    "id": "CA8QhW-ynI4N"
   },
   "outputs": [
    {
     "name": "stdout",
     "output_type": "stream",
     "text": [
      "0\n",
      "2\n",
      "4\n",
      "6\n",
      "8\n",
      "10\n",
      "12\n",
      "14\n"
     ]
    }
   ],
   "source": [
    "for i in range(16):\n",
    "    if i % 2 != 0:\n",
    "        continue\n",
    "    print(i)"
   ]
  },
  {
   "cell_type": "code",
   "execution_count": null,
   "metadata": {
    "id": "qusMYUcenI4O"
   },
   "outputs": [],
   "source": []
  },
  {
   "cell_type": "markdown",
   "metadata": {
    "id": "25M1HGkNnI4O"
   },
   "source": [
    "##### Break Statement"
   ]
  },
  {
   "cell_type": "code",
   "execution_count": 93,
   "metadata": {
    "id": "sk22CI7ZnI4O"
   },
   "outputs": [
    {
     "name": "stdout",
     "output_type": "stream",
     "text": [
      "0\n",
      "1\n",
      "2\n",
      "3\n",
      "4\n",
      "5\n",
      "6\n",
      "7\n",
      "8\n"
     ]
    }
   ],
   "source": [
    "for i in range(10):\n",
    "    if i == 9:\n",
    "        break\n",
    "    print(i)"
   ]
  },
  {
   "cell_type": "code",
   "execution_count": null,
   "metadata": {
    "id": "ncAUBT2znI4O"
   },
   "outputs": [],
   "source": []
  },
  {
   "cell_type": "markdown",
   "metadata": {
    "id": "RkFnuD17nI4O"
   },
   "source": [
    "##### Pass Statement"
   ]
  },
  {
   "cell_type": "code",
   "execution_count": null,
   "metadata": {
    "id": "bYEgulvqnI4O"
   },
   "outputs": [],
   "source": [
    "# mostly used as a placeholder, and will continue on same iteration"
   ]
  },
  {
   "cell_type": "code",
   "execution_count": 94,
   "metadata": {
    "id": "wg9sjAfCnI4O"
   },
   "outputs": [],
   "source": [
    "my_name = \"Nurzaada\"\n",
    "for i in name:\n",
    "    pass"
   ]
  },
  {
   "cell_type": "markdown",
   "metadata": {
    "id": "RIFme77rnI4O"
   },
   "source": [
    "##### Double For Loops"
   ]
  },
  {
   "cell_type": "code",
   "execution_count": 95,
   "metadata": {
    "id": "Pg_9wrn7nI4O"
   },
   "outputs": [
    {
     "name": "stdout",
     "output_type": "stream",
     "text": [
      "i =  0 j =  0\n",
      "i =  0 j =  1\n",
      "i =  0 j =  2\n",
      "i =  0 j =  3\n",
      "i =  1 j =  0\n",
      "i =  1 j =  1\n",
      "i =  1 j =  2\n",
      "i =  1 j =  3\n",
      "i =  2 j =  0\n",
      "i =  2 j =  1\n",
      "i =  2 j =  2\n",
      "i =  2 j =  3\n"
     ]
    }
   ],
   "source": [
    "for i in range(3):\n",
    "    for j in range(4):\n",
    "        print('i = ', i, 'j = ', j)"
   ]
  },
  {
   "cell_type": "markdown",
   "metadata": {
    "id": "pcW629Z2nI4O"
   },
   "source": [
    "### While Loops"
   ]
  },
  {
   "cell_type": "code",
   "execution_count": 97,
   "metadata": {
    "id": "R9aIwlJvnI4O"
   },
   "outputs": [
    {
     "name": "stdout",
     "output_type": "stream",
     "text": [
      "0102030405060708090"
     ]
    }
   ],
   "source": [
    "point = 0\n",
    "while point < 100:\n",
    "    print(point, end ='')\n",
    "    point+=10"
   ]
  },
  {
   "cell_type": "markdown",
   "metadata": {
    "id": "A6nQ3VSjnI4O"
   },
   "source": [
    "##### Looping 'While True'"
   ]
  },
  {
   "cell_type": "code",
   "execution_count": 112,
   "metadata": {
    "id": "8cSsiCA5nI4O"
   },
   "outputs": [
    {
     "name": "stdout",
     "output_type": "stream",
     "text": [
      "123456789"
     ]
    }
   ],
   "source": [
    "counting=1\n",
    "while counting < 10:\n",
    "    print(counting, end = '')\n",
    "    counting+=1\n",
    "    \n",
    "        "
   ]
  },
  {
   "cell_type": "markdown",
   "metadata": {
    "id": "X-75FrMhnI4O"
   },
   "source": [
    "##### While & For Loops Used Together"
   ]
  },
  {
   "cell_type": "code",
   "execution_count": 117,
   "metadata": {
    "id": "84RofRFznI4P"
   },
   "outputs": [
    {
     "name": "stdout",
     "output_type": "stream",
     "text": [
      "Keep going forward!  1\n",
      "Keep going forward!  2\n",
      "Keep going forward!  3\n",
      "Keep going forward!  4\n",
      "Keep going forward!  5\n",
      "Keep going forward!  6\n",
      "Keep going forward!  7\n",
      "Keep going forward!  8\n",
      "Keep going forward!  9\n"
     ]
    }
   ],
   "source": [
    "starting_point = 1\n",
    "while starting_point < 10:\n",
    "    for i in range(1,10):\n",
    "        print(\"Keep going forward! \", i)\n",
    "        starting_point+=1"
   ]
  },
  {
   "cell_type": "markdown",
   "metadata": {
    "id": "7eHsWHZdnI4P"
   },
   "source": [
    "### Built-In Functions"
   ]
  },
  {
   "cell_type": "markdown",
   "metadata": {
    "id": "ngV5HF_bnI4P"
   },
   "source": [
    "##### range()"
   ]
  },
  {
   "cell_type": "code",
   "execution_count": 121,
   "metadata": {
    "id": "T-bVwoonnI4P"
   },
   "outputs": [
    {
     "name": "stdout",
     "output_type": "stream",
     "text": [
      "1357911131517"
     ]
    }
   ],
   "source": [
    "for j in range(1,18,2):\n",
    "    print(j, end = '')"
   ]
  },
  {
   "cell_type": "markdown",
   "metadata": {
    "id": "LzaEAdI2nI4P"
   },
   "source": [
    "##### len()"
   ]
  },
  {
   "cell_type": "code",
   "execution_count": 122,
   "metadata": {
    "id": "ehR51LpUnI4P"
   },
   "outputs": [
    {
     "name": "stdout",
     "output_type": "stream",
     "text": [
      "6\n"
     ]
    }
   ],
   "source": [
    "name = \"Madina\"\n",
    "print(len(name))"
   ]
  },
  {
   "cell_type": "markdown",
   "metadata": {
    "id": "S0k4MlkBnI4P"
   },
   "source": [
    "##### help()"
   ]
  },
  {
   "cell_type": "code",
   "execution_count": null,
   "metadata": {
    "id": "mkn7sTxunI4P"
   },
   "outputs": [],
   "source": [
    "#help function can be called to get more info about Python functions"
   ]
  },
  {
   "cell_type": "markdown",
   "metadata": {
    "id": "2VLs3yrXnI4P"
   },
   "source": [
    "##### isinstance()"
   ]
  },
  {
   "cell_type": "code",
   "execution_count": 123,
   "metadata": {
    "id": "S1GtITDonI4P"
   },
   "outputs": [
    {
     "name": "stdout",
     "output_type": "stream",
     "text": [
      "Enter your text: Discrete Math\n",
      "Discrete Math is a string.\n"
     ]
    }
   ],
   "source": [
    "text1 = input(\"Enter your text: \")\n",
    "if isinstance(text1, str):\n",
    "    print(f\"{text1} is a string.\")\n",
    "elif isinstance(text1, int):\n",
    "    print(f\"{text1} is an int.\")\n",
    "elif isinstance(text1, float):\n",
    "    print(f\"{text1} is a float.\")"
   ]
  },
  {
   "cell_type": "markdown",
   "metadata": {
    "id": "W6Ril1wMnI4P"
   },
   "source": [
    "##### abs()"
   ]
  },
  {
   "cell_type": "code",
   "execution_count": 124,
   "metadata": {
    "id": "juaNNBY-nI4P"
   },
   "outputs": [
    {
     "name": "stdout",
     "output_type": "stream",
     "text": [
      "12\n"
     ]
    }
   ],
   "source": [
    "print(abs(-12))"
   ]
  },
  {
   "cell_type": "markdown",
   "metadata": {
    "id": "EipW_6lHnI4P"
   },
   "source": [
    "### Try and Except"
   ]
  },
  {
   "cell_type": "code",
   "execution_count": 132,
   "metadata": {
    "id": "QOLkX7X2nI4Q"
   },
   "outputs": [
    {
     "name": "stdout",
     "output_type": "stream",
     "text": [
      "Year of birth: 1998\n",
      "You were born in 1998\n"
     ]
    }
   ],
   "source": [
    "try:\n",
    "    year = 0\n",
    "    year_of_birth = int(input(\"Year of birth: \"))\n",
    "    print(\"You were born in \" + str(year_of_birth) )\n",
    "except:\n",
    "    print(\"Please, change your info to a number.\")"
   ]
  },
  {
   "cell_type": "markdown",
   "metadata": {
    "id": "CmNnGdTpnI4Q"
   },
   "source": [
    "### Lists"
   ]
  },
  {
   "cell_type": "markdown",
   "metadata": {
    "id": "_ejVfgINnI4Q"
   },
   "source": [
    "##### Declaring Lists"
   ]
  },
  {
   "cell_type": "code",
   "execution_count": 163,
   "metadata": {
    "id": "6ZlcCxF1nI4Q"
   },
   "outputs": [
    {
     "name": "stdout",
     "output_type": "stream",
     "text": [
      "['avocado', 'tomato', 'lettuce', 'red pepper', 'carrot', 'carrots']\n"
     ]
    }
   ],
   "source": [
    "veggies = ['avocado', 'tomato', 'lettuce', 'red pepper', 'carrot', 'carrots']\n",
    "print(veggies)"
   ]
  },
  {
   "cell_type": "markdown",
   "metadata": {
    "id": "4idYp3sdnI4Q"
   },
   "source": [
    "##### Indexing a List"
   ]
  },
  {
   "cell_type": "code",
   "execution_count": 164,
   "metadata": {
    "id": "QTCVh6zenI4Q"
   },
   "outputs": [
    {
     "name": "stdout",
     "output_type": "stream",
     "text": [
      "carrots\n",
      "['avocado', 'tomato', 'lettuce', 'red pepper', 'carrot', 'carrots']\n",
      "['red pepper', 'carrot', 'carrots']\n",
      "['carrots', 'carrot', 'red pepper', 'lettuce', 'tomato', 'avocado']\n",
      "['tomato', 'carrot']\n"
     ]
    }
   ],
   "source": [
    "print(veggies[-1])\n",
    "print(veggies[:])\n",
    "print(veggies[3:])\n",
    "print(veggies[::-1])\n",
    "print(veggies[1::3])\n",
    "\n",
    "              \n"
   ]
  },
  {
   "cell_type": "markdown",
   "metadata": {
    "id": "IuMYw0nvnI4Q"
   },
   "source": [
    "##### .append()"
   ]
  },
  {
   "cell_type": "code",
   "execution_count": 172,
   "metadata": {
    "id": "sTrDICCRnI4Q"
   },
   "outputs": [
    {
     "name": "stdout",
     "output_type": "stream",
     "text": [
      "['spinach', 'avocado', 'red pepper', 'carrot', 'carrots', 'carrot']\n"
     ]
    }
   ],
   "source": [
    "veggies.append('carrot')\n",
    "print(veggies)"
   ]
  },
  {
   "cell_type": "markdown",
   "metadata": {
    "id": "UzKP2wxXnI4Q"
   },
   "source": [
    "##### .insert()"
   ]
  },
  {
   "cell_type": "code",
   "execution_count": 173,
   "metadata": {
    "id": "-yXMRKnAnI4Q"
   },
   "outputs": [
    {
     "name": "stdout",
     "output_type": "stream",
     "text": [
      "['spinach', 'spinach', 'avocado', 'red pepper', 'carrot', 'carrots', 'carrot']\n"
     ]
    }
   ],
   "source": [
    "veggies.insert(0, 'spinach')\n",
    "print(veggies)"
   ]
  },
  {
   "cell_type": "markdown",
   "metadata": {
    "id": "xjukNbcNnI4Q"
   },
   "source": [
    "##### .pop()"
   ]
  },
  {
   "cell_type": "code",
   "execution_count": 174,
   "metadata": {
    "id": "nw-RysdInI4Q"
   },
   "outputs": [
    {
     "name": "stdout",
     "output_type": "stream",
     "text": [
      "['spinach', 'avocado', 'red pepper', 'carrot', 'carrots', 'carrot']\n"
     ]
    }
   ],
   "source": [
    "veggies.pop(1)\n",
    "print(veggies)"
   ]
  },
  {
   "cell_type": "markdown",
   "metadata": {
    "id": "o5trD09bnI4Q"
   },
   "source": [
    "\n",
    "##### .remove()"
   ]
  },
  {
   "cell_type": "code",
   "execution_count": 175,
   "metadata": {
    "id": "X_TBFnAlnI4Q"
   },
   "outputs": [
    {
     "name": "stdout",
     "output_type": "stream",
     "text": [
      "['avocado', 'red pepper', 'carrot', 'carrots', 'carrot']\n",
      "['avocado', 'red pepper', 'carrots']\n"
     ]
    }
   ],
   "source": [
    "veggies.remove('spinach')\n",
    "print(veggies)\n",
    "while 'carrot' in veggies:\n",
    "    veggies.remove('carrot')\n",
    "print(veggies)"
   ]
  },
  {
   "cell_type": "markdown",
   "metadata": {
    "id": "BAl82L-FnI4Q"
   },
   "source": [
    "##### del()"
   ]
  },
  {
   "cell_type": "code",
   "execution_count": 176,
   "metadata": {
    "id": "cuhjHzs9nI4Q"
   },
   "outputs": [
    {
     "name": "stdout",
     "output_type": "stream",
     "text": [
      "['avocado', 'red pepper']\n"
     ]
    }
   ],
   "source": [
    "del(veggies[2])\n",
    "print(veggies)"
   ]
  },
  {
   "cell_type": "markdown",
   "metadata": {
    "id": "uAJ3qgwHnI4Q"
   },
   "source": [
    "##### Concatenating Two Lists"
   ]
  },
  {
   "cell_type": "code",
   "execution_count": 177,
   "metadata": {
    "id": "5r7IIcyqnI4R"
   },
   "outputs": [
    {
     "name": "stdout",
     "output_type": "stream",
     "text": [
      "[2, 4, 6, 8, 1, 3, 5, 7]\n"
     ]
    }
   ],
   "source": [
    "even_numbers = [2,4,6,8]\n",
    "odd_numbers = [1,3,5,7]\n",
    "all_numbers = even_numbers + odd_numbers\n",
    "print(all_numbers)"
   ]
  },
  {
   "cell_type": "markdown",
   "metadata": {
    "id": "CpyN55wwnI4R"
   },
   "source": [
    "##### Lists Within Lists"
   ]
  },
  {
   "cell_type": "code",
   "execution_count": 190,
   "metadata": {
    "id": "2TyqdVixnI4R"
   },
   "outputs": [
    {
     "name": "stdout",
     "output_type": "stream",
     "text": [
      "[1, 2, 3, 4, 5, [6, 8, 9], 10]\n",
      "[6, 8, 9]\n"
     ]
    }
   ],
   "source": [
    "numbers = [1,2,3,4,5, [6, 8, 9], 10]\n",
    "print(numbers)\n",
    "print(numbers[5])"
   ]
  },
  {
   "cell_type": "markdown",
   "metadata": {
    "id": "s_3T3_R3nI4R"
   },
   "source": [
    "##### Looping Through Lists"
   ]
  },
  {
   "cell_type": "code",
   "execution_count": 184,
   "metadata": {
    "id": "STwYKXXMnI4R"
   },
   "outputs": [
    {
     "name": "stdout",
     "output_type": "stream",
     "text": [
      "24681357"
     ]
    }
   ],
   "source": [
    "all_numbers = [2,4,6,8,1,3,5,7]\n",
    "for i in all_numbers:\n",
    "    print(i, end = '')"
   ]
  },
  {
   "cell_type": "markdown",
   "metadata": {
    "id": "xksd5MUjnI4R"
   },
   "source": [
    "## Exercise #1 <br>\n",
    "<p>Cube Number Test... Print out all cubed numbers up to the total value 1000. Meaning that if the cubed number is over 1000 break the loop.</p>"
   ]
  },
  {
   "cell_type": "code",
   "execution_count": 231,
   "metadata": {
    "id": "xSb1avJynI4R",
    "scrolled": true
   },
   "outputs": [
    {
     "name": "stdout",
     "output_type": "stream",
     "text": [
      "1,8,27,64,125,216,343,512,729,1000,1331,1728,2197,2744,3375,4096,4913,5832,6859,8000,9261,10648,12167,13824,15625,17576,19683,21952,24389,27000,29791,32768,35937,39304,42875,46656,50653,54872,59319,64000,68921,74088,79507,85184,91125,97336,103823,110592,117649,125000,132651,140608,148877,157464,166375,175616,185193,195112,205379,216000,226981,238328,250047,262144,274625,287496,300763,314432,328509,343000,357911,373248,389017,405224,421875,438976,456533,474552,493039,512000,531441,551368,571787,592704,614125,636056,658503,681472,704969,729000,753571,778688,804357,830584,857375,884736,912673,941192,970299,1000000,1030301,1061208,1092727,1124864,1157625,1191016,1225043,1259712,1295029,1331000,1367631,1404928,1442897,1481544,1520875,1560896,1601613,1643032,1685159,1728000,1771561,1815848,1860867,1906624,1953125,2000376,2048383,2097152,2146689,2197000,2248091,2299968,2352637,2406104,2460375,2515456,2571353,2628072,2685619,2744000,2803221,2863288,2924207,2985984,3048625,3112136,3176523,3241792,3307949,3375000,3442951,3511808,3581577,3652264,3723875,3796416,3869893,3944312,4019679,4096000,4173281,4251528,4330747,4410944,4492125,4574296,4657463,4741632,4826809,4913000,5000211,5088448,5177717,5268024,5359375,5451776,5545233,5639752,5735339,5832000,5929741,6028568,6128487,6229504,6331625,6434856,6539203,6644672,6751269,6859000,6967871,7077888,7189057,7301384,7414875,7529536,7645373,7762392,7880599,8000000,8120601,8242408,8365427,8489664,8615125,8741816,8869743,8998912,9129329,9261000,9393931,9528128,9663597,9800344,9938375,10077696,10218313,10360232,10503459,10648000,10793861,10941048,11089567,11239424,11390625,11543176,11697083,11852352,12008989,12167000,12326391,12487168,12649337,12812904,12977875,13144256,13312053,13481272,13651919,13824000,13997521,14172488,14348907,14526784,14706125,14886936,15069223,15252992,15438249,15625000,15813251,16003008,16194277,16387064,16581375,16777216,16974593,17173512,17373979,17576000,17779581,17984728,18191447,18399744,18609625,18821096,19034163,19248832,19465109,19683000,19902511,20123648,20346417,20570824,20796875,21024576,21253933,21484952,21717639,21952000,22188041,22425768,22665187,22906304,23149125,23393656,23639903,23887872,24137569,24389000,24642171,24897088,25153757,25412184,25672375,25934336,26198073,26463592,26730899,27000000,27270901,27543608,27818127,28094464,28372625,28652616,28934443,29218112,29503629,29791000,30080231,30371328,30664297,30959144,31255875,31554496,31855013,32157432,32461759,32768000,33076161,33386248,33698267,34012224,34328125,34645976,34965783,35287552,35611289,35937000,36264691,36594368,36926037,37259704,37595375,37933056,38272753,38614472,38958219,39304000,39651821,40001688,40353607,40707584,41063625,41421736,41781923,42144192,42508549,42875000,43243551,43614208,43986977,44361864,44738875,45118016,45499293,45882712,46268279,46656000,47045881,47437928,47832147,48228544,48627125,49027896,49430863,49836032,50243409,50653000,51064811,51478848,51895117,52313624,52734375,53157376,53582633,54010152,54439939,54872000,55306341,55742968,56181887,56623104,57066625,57512456,57960603,58411072,58863869,59319000,59776471,60236288,60698457,61162984,61629875,62099136,62570773,63044792,63521199,64000000,64481201,64964808,65450827,65939264,66430125,66923416,67419143,67917312,68417929,68921000,69426531,69934528,70444997,70957944,71473375,71991296,72511713,73034632,73560059,74088000,74618461,75151448,75686967,76225024,76765625,77308776,77854483,78402752,78953589,79507000,80062991,80621568,81182737,81746504,82312875,82881856,83453453,84027672,84604519,85184000,85766121,86350888,86938307,87528384,88121125,88716536,89314623,89915392,90518849,91125000,91733851,92345408,92959677,93576664,94196375,94818816,95443993,96071912,96702579,97336000,97972181,98611128,99252847,99897344,100544625,101194696,101847563,102503232,103161709,103823000,104487111,105154048,105823817,106496424,107171875,107850176,108531333,109215352,109902239,110592000,111284641,111980168,112678587,113379904,114084125,114791256,115501303,116214272,116930169,117649000,118370771,119095488,119823157,120553784,121287375,122023936,122763473,123505992,124251499,125000000,125751501,126506008,127263527,128024064,128787625,129554216,130323843,131096512,131872229,132651000,133432831,134217728,135005697,135796744,136590875,137388096,138188413,138991832,139798359,140608000,141420761,142236648,143055667,143877824,144703125,145531576,146363183,147197952,148035889,148877000,149721291,150568768,151419437,152273304,153130375,153990656,154854153,155720872,156590819,157464000,158340421,159220088,160103007,160989184,161878625,162771336,163667323,164566592,165469149,166375000,167284151,168196608,169112377,170031464,170953875,171879616,172808693,173741112,174676879,175616000,176558481,177504328,178453547,179406144,180362125,181321496,182284263,183250432,184220009,185193000,186169411,187149248,188132517,189119224,190109375,191102976,192100033,193100552,194104539,195112000,196122941,197137368,198155287,199176704,200201625,201230056,202262003,203297472,204336469,205379000,206425071,207474688,208527857,209584584,210644875,211708736,212776173,213847192,214921799,216000000,217081801,218167208,219256227,220348864,221445125,222545016,223648543,224755712,225866529,226981000,228099131,229220928,230346397,231475544,232608375,233744896,234885113,236029032,237176659,238328000,239483061,240641848,241804367,242970624,244140625,245314376,246491883,247673152,248858189,250047000,251239591,252435968,253636137,254840104,256047875,257259456,258474853,259694072,260917119,262144000,263374721,264609288,265847707,267089984,268336125,269586136,270840023,272097792,273359449,274625000,275894451,277167808,278445077,279726264,281011375,282300416,283593393,284890312,286191179,287496000,288804781,290117528,291434247,292754944,294079625,295408296,296740963,298077632,299418309,300763000,302111711,303464448,304821217,306182024,307546875,308915776,310288733,311665752,313046839,314432000,315821241,317214568,318611987,320013504,321419125,322828856,324242703,325660672,327082769,328509000,329939371,331373888,332812557,334255384,335702375,337153536,338608873,340068392,341532099,343000000,344472101,345948408,347428927,348913664,350402625,351895816,353393243,354894912,356400829,357911000,359425431,360944128,362467097,363994344,365525875,367061696,368601813,370146232,371694959,373248000,374805361,376367048,377933067,379503424,381078125,382657176,384240583,385828352,387420489,389017000,390617891,392223168,393832837,395446904,397065375,398688256,400315553,401947272,403583419,405224000,406869021,408518488,410172407,411830784,413493625,415160936,416832723,418508992,420189749,421875000,423564751,425259008,426957777,428661064,430368875,432081216,433798093,435519512,437245479,438976000,440711081,442450728,444194947,445943744,447697125,449455096,451217663,452984832,454756609,456533000,458314011,460099648,461889917,463684824,465484375,467288576,469097433,470910952,472729139,474552000,476379541,478211768,480048687,481890304,483736625,485587656,487443403,489303872,491169069,493039000,494913671,496793088,498677257,500566184,502459875,504358336,506261573,508169592,510082399,512000000,513922401,515849608,517781627,519718464,521660125,523606616,525557943,527514112,529475129,531441000,533411731,535387328,537367797,539353144,541343375,543338496,545338513,547343432,549353259,551368000,553387661,555412248,557441767,559476224,561515625,563559976,565609283,567663552,569722789,571787000,573856191,575930368,578009537,580093704,582182875,584277056,586376253,588480472,590589719,592704000,594823321,596947688,599077107,601211584,603351125,605495736,607645423,609800192,611960049,614125000,616295051,618470208,620650477,622835864,625026375,627222016,629422793,631628712,633839779,636056000,638277381,640503928,642735647,644972544,647214625,649461896,651714363,653972032,656234909,658503000,660776311,663054848,665338617,667627624,669921875,672221376,674526133,676836152,679151439,681472000,683797841,686128968,688465387,690807104,693154125,695506456,697864103,700227072,702595369,704969000,707347971,709732288,712121957,714516984,716917375,719323136,721734273,724150792,726572699,729000000,731432701,733870808,736314327,738763264,741217625,743677416,746142643,748613312,751089429,753571000,756058031,758550528,761048497,763551944,766060875,768575296,771095213,773620632,776151559,778688000,781229961,783777448,786330467,788889024,791453125,794022776,796597983,799178752,801765089,804357000,806954491,809557568,812166237,814780504,817400375,820025856,822656953,825293672,827936019,830584000,833237621,835896888,838561807,841232384,843908625,846590536,849278123,851971392,854670349,857375000,860085351,862801408,865523177,868250664,870983875,873722816,876467493,879217912,881974079,884736000,887503681,890277128,893056347,895841344,898632125,901428696,904231063,907039232,909853209,912673000,915498611,918330048,921167317,924010424,926859375,929714176,932574833,935441352,938313739,941192000,944076141,946966168,949862087,952763904,955671625,958585256,961504803,964430272,967361669,970299000,973242271,976191488,979146657,982107784,985074875,988047936,991026973,994011992,997002999,"
     ]
    }
   ],
   "source": [
    "\n",
    "for n in range(1, 1000):\n",
    "    if n > 1000:\n",
    "        break\n",
    "    print(n**3,  end = ',')\n",
    "    n+=1\n",
    "\n",
    "\n",
    "    \n",
    "        "
   ]
  },
  {
   "cell_type": "markdown",
   "metadata": {
    "id": "mJmgrGmqnI4R"
   },
   "source": [
    "## Exercise #2 <br>\n",
    "<p>Get first prime numbers up to 100</p>"
   ]
  },
  {
   "cell_type": "code",
   "execution_count": 243,
   "metadata": {
    "id": "8nEjd9LQnI4R"
   },
   "outputs": [
    {
     "name": "stdout",
     "output_type": "stream",
     "text": [
      "1,3,5,7,9,11,13,15,17,19,21,23,25,27,29,31,33,35,37,39,41,43,45,47,49,51,53,55,57,59,61,63,65,67,69,71,73,75,77,79,81,83,85,87,89,91,93,95,97,99,"
     ]
    }
   ],
   "source": [
    "# HINT::\n",
    "# An else after an if runs if the if didn’t\n",
    "# An else after a for runs if the for didn’t break\n",
    "for i in range(1, 100):\n",
    "    if i % 2 == 0:\n",
    "        continue\n",
    "    elif : \n",
    "        print(i, end = ',')\n",
    "    \n",
    "    \n",
    "\n"
   ]
  },
  {
   "cell_type": "markdown",
   "metadata": {
    "id": "PwH96tqFnI4R"
   },
   "source": [
    "# Exercise 3 <br>\n",
    "<p>Take in a users input for their age, if they are younger than 18 print kids, if they're 18 to 65 print adults, else print seniors</p>"
   ]
  },
  {
   "cell_type": "code",
   "execution_count": 227,
   "metadata": {
    "id": "9sar7hadnI4R"
   },
   "outputs": [
    {
     "name": "stdout",
     "output_type": "stream",
     "text": [
      "How old are you? 18\n",
      "You are an adult!\n"
     ]
    }
   ],
   "source": [
    "user_age = input(\"How old are you? \")\n",
    "user_age = int(user_age)\n",
    "\n",
    "if 1 <= user_age < 18:\n",
    "    print(\"You are a kid!\")\n",
    "elif 18 <= user_age <= 65:\n",
    "    print(\"You are an adult!\")\n",
    "else:\n",
    "    print(\"You are a senior!\")"
   ]
  },
  {
   "cell_type": "code",
   "execution_count": null,
   "metadata": {},
   "outputs": [],
   "source": []
  }
 ],
 "metadata": {
  "colab": {
   "provenance": []
  },
  "kernelspec": {
   "display_name": "Python 3 (ipykernel)",
   "language": "python",
   "name": "python3"
  },
  "language_info": {
   "codemirror_mode": {
    "name": "ipython",
    "version": 3
   },
   "file_extension": ".py",
   "mimetype": "text/x-python",
   "name": "python",
   "nbconvert_exporter": "python",
   "pygments_lexer": "ipython3",
   "version": "3.11.5"
  }
 },
 "nbformat": 4,
 "nbformat_minor": 1
}
